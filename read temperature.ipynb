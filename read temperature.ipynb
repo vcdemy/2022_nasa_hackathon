{
 "cells": [
  {
   "cell_type": "code",
   "execution_count": 1,
   "id": "1610415d-4e34-470a-9f7d-b44ae595b093",
   "metadata": {},
   "outputs": [],
   "source": [
    "import pandas as pd\n",
    "import folium"
   ]
  },
  {
   "cell_type": "code",
   "execution_count": 5,
   "id": "86be689b-c210-4a3a-b432-0f9f68e5e7ef",
   "metadata": {},
   "outputs": [],
   "source": [
    "df = pd.read_csv(\"nasa/arctic_lsat_ndvi_swi_sites.csv\")"
   ]
  },
  {
   "cell_type": "code",
   "execution_count": 3,
   "id": "849ced7b-b80d-437b-9d6b-6ad89b6100db",
   "metadata": {},
   "outputs": [
    {
     "data": {
      "text/html": [
       "<div>\n",
       "<style scoped>\n",
       "    .dataframe tbody tr th:only-of-type {\n",
       "        vertical-align: middle;\n",
       "    }\n",
       "\n",
       "    .dataframe tbody tr th {\n",
       "        vertical-align: top;\n",
       "    }\n",
       "\n",
       "    .dataframe thead th {\n",
       "        text-align: right;\n",
       "    }\n",
       "</style>\n",
       "<table border=\"1\" class=\"dataframe\">\n",
       "  <thead>\n",
       "    <tr style=\"text-align: right;\">\n",
       "      <th></th>\n",
       "      <th>site</th>\n",
       "      <th>year</th>\n",
       "      <th>latitude</th>\n",
       "      <th>longitude</th>\n",
       "      <th>n.obs.p025</th>\n",
       "      <th>n.obs.p500</th>\n",
       "      <th>n.obs.p975</th>\n",
       "      <th>ndvi.max.p025</th>\n",
       "      <th>ndvi.max.p500</th>\n",
       "      <th>ndvi.max.p975</th>\n",
       "      <th>swi.p025</th>\n",
       "      <th>swi.p500</th>\n",
       "      <th>swi.p975</th>\n",
       "    </tr>\n",
       "  </thead>\n",
       "  <tbody>\n",
       "    <tr>\n",
       "      <th>0</th>\n",
       "      <td>00000000950b35ce9479</td>\n",
       "      <td>1985</td>\n",
       "      <td>67.142942</td>\n",
       "      <td>-104.391464</td>\n",
       "      <td>0.0</td>\n",
       "      <td>0.0</td>\n",
       "      <td>0.0</td>\n",
       "      <td>-9999.000000</td>\n",
       "      <td>-9999.000000</td>\n",
       "      <td>-9999.000000</td>\n",
       "      <td>15.6</td>\n",
       "      <td>21.9</td>\n",
       "      <td>30.5</td>\n",
       "    </tr>\n",
       "    <tr>\n",
       "      <th>1</th>\n",
       "      <td>00000000950b35ce9479</td>\n",
       "      <td>1986</td>\n",
       "      <td>67.142942</td>\n",
       "      <td>-104.391464</td>\n",
       "      <td>0.0</td>\n",
       "      <td>0.0</td>\n",
       "      <td>0.0</td>\n",
       "      <td>-9999.000000</td>\n",
       "      <td>-9999.000000</td>\n",
       "      <td>-9999.000000</td>\n",
       "      <td>12.3</td>\n",
       "      <td>17.2</td>\n",
       "      <td>26.5</td>\n",
       "    </tr>\n",
       "    <tr>\n",
       "      <th>2</th>\n",
       "      <td>00000000950b35ce9479</td>\n",
       "      <td>1987</td>\n",
       "      <td>67.142942</td>\n",
       "      <td>-104.391464</td>\n",
       "      <td>0.0</td>\n",
       "      <td>0.0</td>\n",
       "      <td>0.0</td>\n",
       "      <td>-9999.000000</td>\n",
       "      <td>-9999.000000</td>\n",
       "      <td>-9999.000000</td>\n",
       "      <td>14.4</td>\n",
       "      <td>20.6</td>\n",
       "      <td>28.5</td>\n",
       "    </tr>\n",
       "    <tr>\n",
       "      <th>3</th>\n",
       "      <td>00000000950b35ce9479</td>\n",
       "      <td>1988</td>\n",
       "      <td>67.142942</td>\n",
       "      <td>-104.391464</td>\n",
       "      <td>0.0</td>\n",
       "      <td>0.0</td>\n",
       "      <td>2.0</td>\n",
       "      <td>0.636410</td>\n",
       "      <td>0.659079</td>\n",
       "      <td>0.682337</td>\n",
       "      <td>21.6</td>\n",
       "      <td>27.5</td>\n",
       "      <td>35.8</td>\n",
       "    </tr>\n",
       "    <tr>\n",
       "      <th>4</th>\n",
       "      <td>00000000950b35ce9479</td>\n",
       "      <td>1989</td>\n",
       "      <td>67.142942</td>\n",
       "      <td>-104.391464</td>\n",
       "      <td>5.0</td>\n",
       "      <td>5.0</td>\n",
       "      <td>5.0</td>\n",
       "      <td>0.577955</td>\n",
       "      <td>0.601471</td>\n",
       "      <td>0.618760</td>\n",
       "      <td>22.6</td>\n",
       "      <td>28.6</td>\n",
       "      <td>35.0</td>\n",
       "    </tr>\n",
       "  </tbody>\n",
       "</table>\n",
       "</div>"
      ],
      "text/plain": [
       "                   site  year   latitude   longitude  n.obs.p025  n.obs.p500  \\\n",
       "0  00000000950b35ce9479  1985  67.142942 -104.391464         0.0         0.0   \n",
       "1  00000000950b35ce9479  1986  67.142942 -104.391464         0.0         0.0   \n",
       "2  00000000950b35ce9479  1987  67.142942 -104.391464         0.0         0.0   \n",
       "3  00000000950b35ce9479  1988  67.142942 -104.391464         0.0         0.0   \n",
       "4  00000000950b35ce9479  1989  67.142942 -104.391464         5.0         5.0   \n",
       "\n",
       "   n.obs.p975  ndvi.max.p025  ndvi.max.p500  ndvi.max.p975  swi.p025  \\\n",
       "0         0.0   -9999.000000   -9999.000000   -9999.000000      15.6   \n",
       "1         0.0   -9999.000000   -9999.000000   -9999.000000      12.3   \n",
       "2         0.0   -9999.000000   -9999.000000   -9999.000000      14.4   \n",
       "3         2.0       0.636410       0.659079       0.682337      21.6   \n",
       "4         5.0       0.577955       0.601471       0.618760      22.6   \n",
       "\n",
       "   swi.p500  swi.p975  \n",
       "0      21.9      30.5  \n",
       "1      17.2      26.5  \n",
       "2      20.6      28.5  \n",
       "3      27.5      35.8  \n",
       "4      28.6      35.0  "
      ]
     },
     "execution_count": 3,
     "metadata": {},
     "output_type": "execute_result"
    }
   ],
   "source": [
    "df.head()"
   ]
  },
  {
   "cell_type": "code",
   "execution_count": 4,
   "id": "c82e344a-dc90-4b9e-88ae-5a5bc7dcac99",
   "metadata": {},
   "outputs": [
    {
     "data": {
      "text/plain": [
       "1450688"
      ]
     },
     "execution_count": 4,
     "metadata": {},
     "output_type": "execute_result"
    }
   ],
   "source": [
    "len(df)"
   ]
  },
  {
   "cell_type": "code",
   "execution_count": null,
   "id": "85720dfb-bb54-4ab7-b05f-b96cb3cb8280",
   "metadata": {},
   "outputs": [],
   "source": [
    "df_new = df[df['year']==1985]"
   ]
  },
  {
   "cell_type": "code",
   "execution_count": null,
   "id": "d11d37f9-e2bc-4820-8b2b-45a24692ec94",
   "metadata": {},
   "outputs": [],
   "source": [
    "df_new.head()"
   ]
  },
  {
   "cell_type": "code",
   "execution_count": null,
   "id": "3edca4ce-5126-4ba3-8230-6641dc3bf040",
   "metadata": {},
   "outputs": [],
   "source": [
    "m = folium.Map([df_new['latitude'].mean(), df_new['longitude'].mean()]) "
   ]
  },
  {
   "cell_type": "code",
   "execution_count": null,
   "id": "9f3e0908-e8cd-42ab-bd42-d16996043b00",
   "metadata": {},
   "outputs": [],
   "source": [
    "for index, row in df_new.iterrows():\n",
    "    folium.Marker([row['latitude'], row['longitude']], popup=row['swi.p500']).add_to(m)"
   ]
  },
  {
   "cell_type": "code",
   "execution_count": null,
   "id": "6e3a371b-25f2-484a-a75a-de54f7067929",
   "metadata": {},
   "outputs": [],
   "source": [
    "m"
   ]
  }
 ],
 "metadata": {
  "kernelspec": {
   "display_name": "Python 3 (ipykernel)",
   "language": "python",
   "name": "python3"
  },
  "language_info": {
   "codemirror_mode": {
    "name": "ipython",
    "version": 3
   },
   "file_extension": ".py",
   "mimetype": "text/x-python",
   "name": "python",
   "nbconvert_exporter": "python",
   "pygments_lexer": "ipython3",
   "version": "3.9.12"
  }
 },
 "nbformat": 4,
 "nbformat_minor": 5
}
